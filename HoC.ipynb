{
 "cells": [
  {
   "attachments": {},
   "cell_type": "markdown",
   "id": "93dead7b",
   "metadata": {},
   "source": [
    "## CAKE experiment on HoC"
   ]
  },
  {
   "cell_type": "code",
   "execution_count": 2,
   "id": "68117ced",
   "metadata": {},
   "outputs": [],
   "source": [
    "import yake\n",
    "import numpy as np\n",
    "from numpy.linalg import norm\n",
    "import re\n",
    "from sklearn.model_selection import train_test_split\n",
    "from sklearn.metrics import f1_score, average_precision_score\n",
    "from dataset import Dataset\n",
    "from myModel import MyModel, MyDataset\n",
    "from myExplainers import MyExplainer\n",
    "from myEvaluation import MyEvaluation\n",
    "import pickle\n",
    "from scipy.special import softmax\n",
    "from tqdm import tqdm\n",
    "import datetime\n",
    "import csv\n",
    "import warnings\n",
    "import torch\n",
    "import tensorflow as tf\n",
    "from helper import print_results\n",
    "from cake import CAKE"
   ]
  },
  {
   "attachments": {},
   "cell_type": "markdown",
   "id": "80ac155c",
   "metadata": {},
   "source": [
    "Load model, data and task"
   ]
  },
  {
   "cell_type": "code",
   "execution_count": 5,
   "id": "451990cf",
   "metadata": {},
   "outputs": [],
   "source": [
    "data_path = ''\n",
    "model_path = 'Trained Models/'\n",
    "save_path = '/home/myloniko/ethos/Results/HoC/'"
   ]
  },
  {
   "cell_type": "code",
   "execution_count": 6,
   "id": "161ad815",
   "metadata": {},
   "outputs": [],
   "source": [
    "model_name = 'bert'\n",
    "existing_rationales = True"
   ]
  },
  {
   "cell_type": "code",
   "execution_count": null,
   "id": "6d6eae2e",
   "metadata": {},
   "outputs": [],
   "source": [
    "task = 'multi_label'\n",
    "sentence_level = True\n",
    "labels = 10\n",
    "\n",
    "model = MyModel(model_path, 'bert_hoc2', model_name, task, labels, False, False)\n",
    "max_sequence_len = model.tokenizer.max_len_single_sentence\n",
    "tokenizer = model.tokenizer\n",
    "torch.cuda.is_available()\n",
    "model.trainer.model.to('cuda')"
   ]
  },
  {
   "cell_type": "code",
   "execution_count": 8,
   "id": "47e9bcfe",
   "metadata": {},
   "outputs": [],
   "source": [
    "hoc = Dataset(path = data_path)\n",
    "x, y, label_names, rationales = hoc.load_hoc()"
   ]
  },
  {
   "attachments": {},
   "cell_type": "markdown",
   "id": "d93244c0",
   "metadata": {},
   "source": [
    "Split data"
   ]
  },
  {
   "cell_type": "code",
   "execution_count": 9,
   "id": "599f6d5a",
   "metadata": {},
   "outputs": [],
   "source": [
    "indices = np.arange(len(y))\n",
    "train_texts, test_texts, train_labels, test_labels, _, test_indexes = train_test_split(x, y, indices, test_size=.2, random_state=42)\n",
    "if existing_rationales:\n",
    "    test_rationales = [rationales[x] for x in test_indexes]\n",
    "\n",
    "size = (0.1 * len(y)) / len(train_labels)\n",
    "train_texts, validation_texts, train_labels, validation_labels = train_test_split(list(train_texts), train_labels, test_size=size, random_state=42)"
   ]
  },
  {
   "cell_type": "code",
   "execution_count": 10,
   "id": "b099135f",
   "metadata": {},
   "outputs": [],
   "source": [
    "test_label_rationales = []\n",
    "for test_rational in test_rationales:\n",
    "    label_rationales = []\n",
    "    for label in range(labels):\n",
    "        label_rationales.append([])\n",
    "    for sentence in test_rational:\n",
    "        for label in range(labels):\n",
    "            if label_names[label] in sentence:\n",
    "                label_rationales[label].append(1)\n",
    "            else:\n",
    "                label_rationales[label].append(0)\n",
    "    test_label_rationales.append(label_rationales)"
   ]
  },
  {
   "attachments": {},
   "cell_type": "markdown",
   "id": "96dc293a",
   "metadata": {},
   "source": [
    "Define the label descriptions"
   ]
  },
  {
   "cell_type": "code",
   "execution_count": 12,
   "id": "4e0861da",
   "metadata": {},
   "outputs": [
    {
     "data": {
      "text/plain": [
       "10"
      ]
     },
     "execution_count": 12,
     "metadata": {},
     "output_type": "execute_result"
    }
   ],
   "source": [
    "description =[\"sustaining proliferative signaling label: refers to the ability of cancer cells to continuously promote their own growth and division through the activation of various signaling pathways. In normal cells, proliferation is tightly regulated by complex signaling networks that include growth factors, receptors, and downstream effectors. However, cancer cells can acquire mutations or alterations in these pathways that allow them to bypass normal regulatory mechanisms and promote their own uncontrolled growth. This hallmark of cancer is often associated with the activation of oncogenes, mutations in tumor suppressor genes, and dysregulation of signaling pathways such as the MAPK/ERK and PI3K/AKT pathways. Targeting these pathways has become an important therapeutic strategy in cancer treatment.\",\n",
    "              \"resisting cell death label: refers to the ability of cancer cells to evade programmed cell death (apoptosis) which is a normal process that eliminates damaged or unwanted cells in the body. Cancer cells can acquire mutations or dysregulation in key apoptotic pathways that allow them to survive and continue to proliferate, even in unfavorable conditions. This hallmark is often associated with mutations in tumor suppressor genes such as TP53, and dysregulation of survival pathways such as the PI3K/AKT and NF-κB pathways.\",\n",
    "              \"genomic instability and mutation label: refer to the accumulation of genetic alterations and mutations in cancer cells. Cancer cells can acquire mutations in oncogenes, tumor suppressor genes, and DNA repair genes that lead to the loss of normal functions and promote uncontrolled growth and survival. This hallmark is often associated with defects in DNA repair pathways, exposure to mutagens such as radiation or chemicals, and errors in DNA replication or segregation during cell division.\",\n",
    "              \"activating invasion and metastasis label: refers refers to the ability of cancer cells to invade and spread to other tissues and organs. Cancer cells can acquire mutations or alterations in genes that regulate cell adhesion, migration, and invasion, allowing them to penetrate the basement membrane and invade nearby tissues. This hallmark is often associated with the activation of oncogenes such as RAS and EGFR, the loss of tumor suppressor genes such as PTEN and CDH1, and dysregulation of signaling pathways such as the WNT and TGF-β pathways.\",\n",
    "              \"evading growth suppressors label: refers to the ability of cancer cells to overcome normal mechanisms that restrain cell growth and proliferation. Normal cells are subject to various checkpoints that ensure proper cell cycle progression and prevent uncontrolled proliferation, but cancer cells can acquire mutations or alterations in genes that bypass these checkpoints and allow them to divide indefinitely. This hallmark is often associated with mutations in tumor suppressor genes such as RB1 and TP53, and dysregulation of signaling pathways such as the CDK and mTOR pathways.\",\n",
    "              \"tumor-promoting inflammation label: refers to the role of chronic inflammation in promoting cancer growth and progression. Inflammatory cells and mediators can create a microenvironment that supports the survival and proliferation of cancer cells, as well as promoting angiogenesis, invasion, and metastasis. This hallmark is often associated with chronic infections, autoimmune diseases, and exposure to environmental toxins or pollutants.\",\n",
    "              \"inducing angiogenesis label: refers to the ability of cancer cells to stimulate the formation of new blood vessels that supply nutrients and oxygen to the tumor. Cancer cells can secrete pro-angiogenic factors that promote the proliferation and migration of endothelial cells, as well as suppressors of anti-angiogenic factors that normally prevent excessive blood vessel growth. This hallmark is often associated with the activation of oncogenes such as VEGF and FGF, and dysregulation of signaling pathways such as the HIF and Notch pathways.\",\n",
    "              \"enabling replicative immortality label: * refers to the ability of cancer cells to bypass normal mechanisms that limit the number of times a cell can divide. Normal cells have a limited capacity to divide due to the shortening of telomeres, the protective caps on the ends of chromosomes, but cancer cells can acquire mutations or alterations in genes that maintain or lengthen telomeres, allowing them to divide indefinitely. This hallmark is often associated with the activation of telomerase or alternative lengthening of telomeres (ALT) pathways.\",\n",
    "              \"avoiding immune destruction label: refers to the ability of cancer cells to evade recognition and destruction by the immune system. Normally, the immune system is able to detect and eliminate abnormal cells, including cancer cells, through a complex process of immune surveillance. However, cancer cells can develop various strategies to avoid detection and attack by the immune system, such as downregulating the expression of antigens that can be recognized by immune cells, producing immunosuppressive factors, and impairing the function of immune cells themselves. This hallmark of cancer is a major obstacle to the success of cancer immunotherapy, which aims to harness the power of the immune system to fight cancer.\",\n",
    "              \"cellular energetics label: refers to the altered metabolic pathways and energy utilization patterns that are characteristic of cancer cells. Cancer cells have a high demand for energy and nutrients to support their uncontrolled growth and proliferation, and they often rely on different metabolic pathways than normal cells to meet these demands. One of the most well-known metabolic alterations in cancer cells is the 'Warburg effect,' which involves a shift toward aerobic glycolysis, even in the presence of sufficient oxygen. This altered metabolism provides cancer cells with a survival advantage and is thought to be involved in various other aspects of cancer progression, such as angiogenesis and metastasis. Targeting cancer cell metabolism has emerged as a promising strategy for cancer therapy.\"\n",
    "]\n",
    "len(description)"
   ]
  },
  {
   "cell_type": "code",
   "execution_count": null,
   "id": "f56b153b",
   "metadata": {
    "scrolled": true
   },
   "outputs": [],
   "source": [
    "predictions = []\n",
    "for test_text in test_texts:\n",
    "    outputs = model.my_predict(test_text)\n",
    "    predictions.append(outputs[0])"
   ]
  },
  {
   "cell_type": "code",
   "execution_count": 14,
   "id": "28900edc",
   "metadata": {},
   "outputs": [
    {
     "name": "stdout",
     "output_type": "stream",
     "text": [
      "0.7046940013545056 0.8243528479665017\n"
     ]
    }
   ],
   "source": [
    "import tensorflow as tf\n",
    "a = tf.constant(predictions, dtype = tf.float32)\n",
    "b = tf.keras.activations.sigmoid(a)\n",
    "predictions = b.numpy()\n",
    "\n",
    "#Multi\n",
    "pred_labels = []\n",
    "for prediction in predictions:\n",
    "    pred_labels.append([1 if i >= 0.5 else 0 for i in prediction])\n",
    "\n",
    "def average_precision_wrapper(y, y_pred, view):\n",
    "    return average_precision_score(y, y_pred.toarray(), average=view)\n",
    "\n",
    "print(average_precision_score(test_labels, pred_labels, average='macro'), f1_score(test_labels, pred_labels, average='macro'))"
   ]
  },
  {
   "cell_type": "code",
   "execution_count": 15,
   "id": "97bffcb7",
   "metadata": {},
   "outputs": [],
   "source": [
    "del x, y, predictions, outputs, validation_labels, validation_texts, hoc"
   ]
  },
  {
   "attachments": {},
   "cell_type": "markdown",
   "id": "9b8e3a41",
   "metadata": {},
   "source": [
    "Create a small cake (CAKE's instance)"
   ]
  },
  {
   "cell_type": "code",
   "execution_count": 16,
   "id": "6bd1fa07",
   "metadata": {},
   "outputs": [],
   "source": [
    "cake = CAKE(model_path = 'Trained Models/bert_hoc2', tokenizer = tokenizer, label_names = label_names, \n",
    "            label_descriptions = description, input_docs = train_texts, input_labels = train_labels, \n",
    "            input_docs_test = test_texts)"
   ]
  },
  {
   "cell_type": "code",
   "execution_count": 30,
   "id": "38eeb398",
   "metadata": {},
   "outputs": [],
   "source": [
    "my_explainers = MyExplainer(label_names, model, sentence_level=True, cake = cake)\n",
    "\n",
    "my_evaluators = MyEvaluation(label_names, model.my_predict, True, True)\n",
    "my_evaluatorsP = MyEvaluation(label_names, model.my_predict, True, False)\n",
    "evaluation =  {'F':my_evaluators.faithfulness, 'FTP': my_evaluators.faithful_truthfulness_penalty, \n",
    "          'NZW': my_evaluators.nzw, 'AUPRC': my_evaluators.auprc}\n",
    "evaluationP = {'F':my_evaluatorsP.faithfulness, 'FTP': my_evaluatorsP.faithful_truthfulness_penalty, \n",
    "          'NZW': my_evaluatorsP.nzw, 'AUPRC': my_evaluators.auprc}"
   ]
  },
  {
   "cell_type": "code",
   "execution_count": null,
   "id": "e30ae963",
   "metadata": {},
   "outputs": [],
   "source": [
    "confs = []\n",
    "for key_emb in [1, 2, 3]:\n",
    "    for label_emb in [1, 2, \"2_doc\", 3]:\n",
    "        for keyphrases in [5, 10, 15, 20]: \n",
    "            for width in [0, 1, 2, 3, 5]:\n",
    "                for negatives in [True, False]:\n",
    "                    confs.append([key_emb, label_emb, keyphrases, width, negatives])\n",
    "len(confs)"
   ]
  },
  {
   "cell_type": "code",
   "execution_count": null,
   "id": "6323287c",
   "metadata": {
    "scrolled": true
   },
   "outputs": [],
   "source": [
    "import time\n",
    "with warnings.catch_warnings():\n",
    "    warnings.simplefilter(\"ignore\", category=RuntimeWarning)\n",
    "    \n",
    "    now = datetime.datetime.now()\n",
    "    file_name = save_path + 'HOC_BERT_CAKE_'+str(now.day) + '_' + str(now.month) + '_' + str(now.year)\n",
    "    metrics = {'F':[], 'FTP':[], 'AUPRC': [], 'NZW':[]}\n",
    "    metricsP = {'F':[], 'FTP':[], 'AUPRC': [], 'NZW':[]}\n",
    "    time_r = []\n",
    "    for conf in confs:\n",
    "        time_r.append([])\n",
    "    techniques = [my_explainers.cake_explain] \n",
    "    #for ind in tqdm(range(0,len(test_texts))):\n",
    "    for ind in tqdm(range(0,len(test_texts))):\n",
    "        torch.cuda.empty_cache() \n",
    "        test_label_rational = test_label_rationales[ind].copy()\n",
    "        instance = test_texts[ind]\n",
    "        if len(instance.split('.')) -1 < len(test_label_rational[0]):\n",
    "            for label in range(labels):\n",
    "                test_label_rational[label] = test_label_rational[label][:len(instance.split('.'))-1]\n",
    "        my_evaluators.clear_states()\n",
    "        my_evaluatorsP.clear_states()\n",
    "        prediction, _, _ = model.my_predict(instance)\n",
    "        enc = model.tokenizer([instance,instance], truncation=True, padding=True)[0]\n",
    "        mask = enc.attention_mask\n",
    "        tokens = enc.tokens\n",
    "        \n",
    "        if tokens.count('.') >= 2:\n",
    "            interpretations = []\n",
    "            kk = 0\n",
    "            for conf in confs:\n",
    "                #print(conf)\n",
    "                ts = time.time()\n",
    "                if conf[1] == 3:\n",
    "                    my_explainers.cake_conf = [conf[0], conf[1], ind, conf[2], conf[3], conf[4]]\n",
    "                else:\n",
    "                    my_explainers.cake_conf = [conf[0], conf[1], None, conf[2], conf[3], conf[4]]\n",
    "                temp = techniques[0](instance, prediction, tokens, mask, _, _)\n",
    "                temp_tokens = tokens.copy()\n",
    "                if sentence_level:\n",
    "                    temp_tokens = temp[0].copy()[0]\n",
    "                    temp = temp[1].copy()\n",
    "                interpretations.append([np.array(i)/np.max(np.abs(i)) if np.max(np.abs(i))!=0 else np.zeros(len(i)) for i in temp])\n",
    "                time_r[kk].append(time.time()-ts)\n",
    "                kk = kk + 1\n",
    "            for metric in metrics.keys():\n",
    "                evaluated = []\n",
    "                for interpretation in interpretations:\n",
    "                    evaluated.append(evaluation[metric](interpretation, _, instance, prediction, temp_tokens, _, _, test_label_rational))\n",
    "                metrics[metric].append(evaluated)\n",
    "            my_evaluatorsP.saved_state = my_evaluators.saved_state.copy()\n",
    "            my_evaluators.clear_states()\n",
    "            for metric in metrics.keys():\n",
    "                evaluatedP = []\n",
    "                for interpretation in interpretations:\n",
    "                    evaluatedP.append(evaluationP[metric](interpretation, _, instance, prediction, temp_tokens, _, _, test_label_rational))\n",
    "                metricsP[metric].append(evaluatedP)\n",
    "            with open(file_name+' (A).pickle', 'wb') as handle:\n",
    "                pickle.dump(metrics, handle, protocol=pickle.HIGHEST_PROTOCOL)\n",
    "            with open(file_name+' (P).pickle', 'wb') as handle:\n",
    "                pickle.dump(metricsP, handle, protocol=pickle.HIGHEST_PROTOCOL)\n",
    "            with open(file_name+'_TIME.pickle', 'wb') as handle:\n",
    "                pickle.dump(time_r, handle, protocol=pickle.HIGHEST_PROTOCOL)\n",
    "                \n",
    "time_r = np.array(time_r)\n",
    "time_r.mean(axis=1)"
   ]
  },
  {
   "cell_type": "code",
   "execution_count": null,
   "id": "5f3b27d5",
   "metadata": {
    "scrolled": true
   },
   "outputs": [],
   "source": [
    "print_results(file_name+'(P)', confs, metricsP, label_names)"
   ]
  },
  {
   "attachments": {},
   "cell_type": "markdown",
   "id": "8d281657",
   "metadata": {},
   "source": [
    "# Time analysis"
   ]
  },
  {
   "cell_type": "code",
   "execution_count": 18,
   "id": "0fff7a8a",
   "metadata": {},
   "outputs": [
    {
     "data": {
      "text/plain": [
       "144"
      ]
     },
     "execution_count": 18,
     "metadata": {},
     "output_type": "execute_result"
    }
   ],
   "source": [
    "confs = []\n",
    "for key_emb in [1, 2, 3]:\n",
    "    for label_emb in [1, 2, 3]:\n",
    "        for keyphrases in [5, 10, 15, 20]:\n",
    "            for width in [0, 1, 2, 3]:\n",
    "                for negatives in [False]:\n",
    "                    confs.append([key_emb, label_emb, keyphrases, width, negatives])\n",
    "len(confs)"
   ]
  },
  {
   "cell_type": "code",
   "execution_count": null,
   "id": "81bb01aa",
   "metadata": {},
   "outputs": [],
   "source": [
    "import time\n",
    "from tqdm.notebook import tqdm\n",
    "\n",
    "with warnings.catch_warnings():\n",
    "    warnings.simplefilter(\"ignore\", category=RuntimeWarning)\n",
    "    \n",
    "    now = datetime.datetime.now()\n",
    "    time_r = []\n",
    "    for conf in confs:\n",
    "        time_r.append([])\n",
    "    techniques = [my_explainers.cake_explain] \n",
    "    for ind in tqdm(range(10)):\n",
    "        torch.cuda.empty_cache() \n",
    "        test_label_rational = test_label_rationales[ind].copy()\n",
    "        instance = test_texts[ind]\n",
    "        if len(instance.split('.')) -1 < len(test_label_rational[0]):\n",
    "            for label in range(labels):\n",
    "                test_label_rational[label] = test_label_rational[label][:len(instance.split('.'))-1]\n",
    "        my_evaluators.clear_states()\n",
    "        my_evaluatorsP.clear_states()\n",
    "        prediction, _, _ = model.my_predict(instance)\n",
    "        enc = model.tokenizer([instance,instance], truncation=True, padding=True)[0]\n",
    "        mask = enc.attention_mask\n",
    "        tokens = enc.tokens\n",
    "        \n",
    "        if tokens.count('.') >= 2:\n",
    "            interpretations = []\n",
    "            kk = 0\n",
    "            for conf in confs:\n",
    "                ts = time.time()\n",
    "                if conf[1] == 3:\n",
    "                    my_explainers.cake_conf = [conf[0], conf[1], ind, conf[2], conf[3], conf[4]]\n",
    "                else:\n",
    "                    my_explainers.cake_conf = [conf[0], conf[1], None, conf[2], conf[3], conf[4]]\n",
    "                temp = techniques[0](instance, prediction, tokens, mask, _, _)\n",
    "                temp_tokens = tokens.copy()\n",
    "                if sentence_level:\n",
    "                    temp_tokens = temp[0].copy()[0]\n",
    "                    temp = temp[1].copy()\n",
    "                aa = [np.array(i)/np.max(np.abs(i)) if np.max(np.abs(i))!=0 else np.zeros(len(i)) for i in temp]\n",
    "                time_r[kk].append(time.time()-ts)\n",
    "                kk = kk + 1\n",
    "time_r = np.array(time_r)\n",
    "time_r.mean(axis=1)"
   ]
  },
  {
   "cell_type": "code",
   "execution_count": 29,
   "id": "e79337ad",
   "metadata": {},
   "outputs": [
    {
     "data": {
      "text/plain": [
       "(144, 10)"
      ]
     },
     "execution_count": 29,
     "metadata": {},
     "output_type": "execute_result"
    }
   ],
   "source": [
    "c = np.array(time_r[0]).reshape((144,10))\n",
    "c.shape"
   ]
  },
  {
   "cell_type": "code",
   "execution_count": 30,
   "id": "8cb151fe",
   "metadata": {},
   "outputs": [
    {
     "data": {
      "text/plain": [
       "[([1, 1, 5, 0, False], 0.4882839202880859),\n",
       " ([1, 1, 5, 1, False], 0.4836899995803833),\n",
       " ([1, 1, 5, 2, False], 0.47516965866088867),\n",
       " ([1, 1, 5, 3, False], 0.4787972211837769),\n",
       " ([1, 1, 10, 0, False], 0.5817655086517334),\n",
       " ([1, 1, 10, 1, False], 0.9842474937438965),\n",
       " ([1, 1, 10, 2, False], 1.005061960220337),\n",
       " ([1, 1, 10, 3, False], 1.016555166244507),\n",
       " ([1, 1, 15, 0, False], 0.9647884607315064),\n",
       " ([1, 1, 15, 1, False], 0.9507078409194947),\n",
       " ([1, 1, 15, 2, False], 0.9060809373855591),\n",
       " ([1, 1, 15, 3, False], 0.8923252344131469),\n",
       " ([1, 1, 20, 0, False], 0.9106181144714356),\n",
       " ([1, 1, 20, 1, False], 0.9065115928649903),\n",
       " ([1, 1, 20, 2, False], 0.7036923885345459),\n",
       " ([1, 1, 20, 3, False], 0.5504607200622559),\n",
       " ([1, 2, 5, 0, False], 0.5532642602920532),\n",
       " ([1, 2, 5, 1, False], 0.5472845792770386),\n",
       " ([1, 2, 5, 2, False], 0.5445155620574951),\n",
       " ([1, 2, 5, 3, False], 0.8771285057067871),\n",
       " ([1, 2, 10, 0, False], 0.9978608608245849),\n",
       " ([1, 2, 10, 1, False], 0.9837345123291016),\n",
       " ([1, 2, 10, 2, False], 0.979053258895874),\n",
       " ([1, 2, 10, 3, False], 0.9748887062072754),\n",
       " ([1, 2, 15, 0, False], 0.9937483787536621),\n",
       " ([1, 2, 15, 1, False], 0.9946617841720581),\n",
       " ([1, 2, 15, 2, False], 1.0010667800903321),\n",
       " ([1, 2, 15, 3, False], 0.9859267234802246),\n",
       " ([1, 2, 20, 0, False], 0.9249441623687744),\n",
       " ([1, 2, 20, 1, False], 0.6617296218872071),\n",
       " ([1, 2, 20, 2, False], 0.657452917098999),\n",
       " ([1, 2, 20, 3, False], 0.6507960319519043),\n",
       " ([1, 3, 5, 0, False], 0.6470253467559814),\n",
       " ([1, 3, 5, 1, False], 0.7775288581848144),\n",
       " ([1, 3, 5, 2, False], 1.0110708236694337),\n",
       " ([1, 3, 5, 3, False], 0.9871479749679566),\n",
       " ([1, 3, 10, 0, False], 0.998403811454773),\n",
       " ([1, 3, 10, 1, False], 0.9882629632949829),\n",
       " ([1, 3, 10, 2, False], 1.1723771810531616),\n",
       " ([1, 3, 10, 3, False], 1.2231634855270386),\n",
       " ([1, 3, 15, 0, False], 1.2368399381637574),\n",
       " ([1, 3, 15, 1, False], 1.2376853942871093),\n",
       " ([1, 3, 15, 2, False], 1.2402745008468627),\n",
       " ([1, 3, 15, 3, False], 0.6601879119873046),\n",
       " ([1, 3, 20, 0, False], 0.5241884708404541),\n",
       " ([1, 3, 20, 1, False], 0.5183236598968506),\n",
       " ([1, 3, 20, 2, False], 0.5196231126785278),\n",
       " ([1, 3, 20, 3, False], 0.5088395833969116),\n",
       " ([2, 1, 5, 0, False], 1.0036152124404907),\n",
       " ([2, 1, 5, 1, False], 1.0157080173492432),\n",
       " ([2, 1, 5, 2, False], 1.0317996740341187),\n",
       " ([2, 1, 5, 3, False], 0.9893783330917358),\n",
       " ([2, 1, 10, 0, False], 0.9986261606216431),\n",
       " ([2, 1, 10, 1, False], 1.1035399675369262),\n",
       " ([2, 1, 10, 2, False], 1.1042835474014283),\n",
       " ([2, 1, 10, 3, False], 1.0926960468292237),\n",
       " ([2, 1, 15, 0, False], 1.1090248107910157),\n",
       " ([2, 1, 15, 1, False], 0.8718205213546752),\n",
       " ([2, 1, 15, 2, False], 0.5360979080200196),\n",
       " ([2, 1, 15, 3, False], 0.536005973815918),\n",
       " ([2, 1, 20, 0, False], 0.5322684526443482),\n",
       " ([2, 1, 20, 1, False], 0.5397519111633301),\n",
       " ([2, 1, 20, 2, False], 0.7894818305969238),\n",
       " ([2, 1, 20, 3, False], 0.9704043865203857),\n",
       " ([2, 2, 5, 0, False], 1.009303331375122),\n",
       " ([2, 2, 5, 1, False], 0.9565908432006835),\n",
       " ([2, 2, 5, 2, False], 0.962395453453064),\n",
       " ([2, 2, 5, 3, False], 0.8668971061706543),\n",
       " ([2, 2, 10, 0, False], 0.8088462352752686),\n",
       " ([2, 2, 10, 1, False], 0.8007217884063721),\n",
       " ([2, 2, 10, 2, False], 0.8308334827423096),\n",
       " ([2, 2, 10, 3, False], 0.8214815616607666),\n",
       " ([2, 2, 15, 0, False], 0.5926949262619019),\n",
       " ([2, 2, 15, 1, False], 0.5883090972900391),\n",
       " ([2, 2, 15, 2, False], 0.5921919345855713),\n",
       " ([2, 2, 15, 3, False], 0.5832627773284912),\n",
       " ([2, 2, 20, 0, False], 0.6628087759017944),\n",
       " ([2, 2, 20, 1, False], 0.9859472751617432),\n",
       " ([2, 2, 20, 2, False], 0.9876720428466796),\n",
       " ([2, 2, 20, 3, False], 1.0138378858566284),\n",
       " ([2, 3, 5, 0, False], 0.9498412609100342),\n",
       " ([2, 3, 5, 1, False], 0.9991880416870117),\n",
       " ([2, 3, 5, 2, False], 1.1040234804153441),\n",
       " ([2, 3, 5, 3, False], 1.0834251403808595),\n",
       " ([2, 3, 10, 0, False], 1.1068758487701416),\n",
       " ([2, 3, 10, 1, False], 1.0911693334579469),\n",
       " ([2, 3, 10, 2, False], 0.8307911634445191),\n",
       " ([2, 3, 10, 3, False], 0.6450002193450928),\n",
       " ([2, 3, 15, 0, False], 0.6514087438583374),\n",
       " ([2, 3, 15, 1, False], 0.6473497867584228),\n",
       " ([2, 3, 15, 2, False], 0.6451646327972412),\n",
       " ([2, 3, 15, 3, False], 0.9405643224716187),\n",
       " ([2, 3, 20, 0, False], 1.0469346046447754),\n",
       " ([2, 3, 20, 1, False], 1.0023104190826415),\n",
       " ([2, 3, 20, 2, False], 1.0284305334091186),\n",
       " ([2, 3, 20, 3, False], 1.0325352668762207),\n",
       " ([3, 1, 5, 0, False], 1.2365314960479736),\n",
       " ([3, 1, 5, 1, False], 1.230094838142395),\n",
       " ([3, 1, 5, 2, False], 1.2163359642028808),\n",
       " ([3, 1, 5, 3, False], 1.2303255081176758),\n",
       " ([3, 1, 10, 0, False], 1.1109462022781371),\n",
       " ([3, 1, 10, 1, False], 0.5925078153610229),\n",
       " ([3, 1, 10, 2, False], 0.5929226636886596),\n",
       " ([3, 1, 10, 3, False], 0.592250394821167),\n",
       " ([3, 1, 15, 0, False], 0.5842074155807495),\n",
       " ([3, 1, 15, 1, False], 0.7369619369506836),\n",
       " ([3, 1, 15, 2, False], 1.0113621473312377),\n",
       " ([3, 1, 15, 3, False], 1.0053571701049804),\n",
       " ([3, 1, 20, 0, False], 1.0313498020172118),\n",
       " ([3, 1, 20, 1, False], 1.0286182403564452),\n",
       " ([3, 1, 20, 2, False], 1.121473240852356),\n",
       " ([3, 1, 20, 3, False], 1.1794715166091918),\n",
       " ([3, 2, 5, 0, False], 1.15351459980011),\n",
       " ([3, 2, 5, 1, False], 1.1734421491622924),\n",
       " ([3, 2, 5, 2, False], 1.1754104852676392),\n",
       " ([3, 2, 5, 3, False], 0.6257365703582763),\n",
       " ([3, 2, 10, 0, False], 0.4958775043487549),\n",
       " ([3, 2, 10, 1, False], 0.4997645139694214),\n",
       " ([3, 2, 10, 2, False], 0.49564642906188966),\n",
       " ([3, 2, 10, 3, False], 0.4938668966293335),\n",
       " ([3, 2, 15, 0, False], 0.9859959602355957),\n",
       " ([3, 2, 15, 1, False], 1.0298875093460083),\n",
       " ([3, 2, 15, 2, False], 0.9835709571838379),\n",
       " ([3, 2, 15, 3, False], 1.010481309890747),\n",
       " ([3, 2, 20, 0, False], 1.050752830505371),\n",
       " ([3, 2, 20, 1, False], 0.9564688920974731),\n",
       " ([3, 2, 20, 2, False], 0.9458203077316284),\n",
       " ([3, 2, 20, 3, False], 0.9727614164352417),\n",
       " ([3, 3, 5, 0, False], 0.9479053497314454),\n",
       " ([3, 3, 5, 1, False], 0.8160287141799927),\n",
       " ([3, 3, 5, 2, False], 0.6007475852966309),\n",
       " ([3, 3, 5, 3, False], 0.5928683519363404),\n",
       " ([3, 3, 10, 0, False], 0.6011253595352173),\n",
       " ([3, 3, 10, 1, False], 0.599489402770996),\n",
       " ([3, 3, 10, 2, False], 0.8260775566101074),\n",
       " ([3, 3, 10, 3, False], 1.011842679977417),\n",
       " ([3, 3, 15, 0, False], 0.962065052986145),\n",
       " ([3, 3, 15, 1, False], 0.9867213487625122),\n",
       " ([3, 3, 15, 2, False], 1.0218659877777099),\n",
       " ([3, 3, 15, 3, False], 1.0848048448562622),\n",
       " ([3, 3, 20, 0, False], 1.069453811645508),\n",
       " ([3, 3, 20, 1, False], 1.0709697484970093),\n",
       " ([3, 3, 20, 2, False], 1.0714402675628663),\n",
       " ([3, 3, 20, 3, False], 1.073179030418396)]"
      ]
     },
     "execution_count": 30,
     "metadata": {},
     "output_type": "execute_result"
    }
   ],
   "source": [
    "list(zip(confs,list(c.mean(axis=1))))"
   ]
  },
  {
   "attachments": {},
   "cell_type": "markdown",
   "id": "2f921a87",
   "metadata": {},
   "source": [
    "# Qualitative Example"
   ]
  },
  {
   "attachments": {},
   "cell_type": "markdown",
   "id": "48d667d1",
   "metadata": {},
   "source": [
    "We choose a random example!"
   ]
  },
  {
   "cell_type": "code",
   "execution_count": 23,
   "id": "3c794687",
   "metadata": {},
   "outputs": [
    {
     "name": "stdout",
     "output_type": "stream",
     "text": [
      "[1, 0, 0, 1, 1, 0, 0, 0, 0, 0]\n",
      "micrornas ( mirnas ) are involved in cancer development and progression , acting as tumor suppressors or oncogenes . in this study , mirna profiling was performed on 10 paired bladder cancer ( bc ) tissues using 20 genechiptm mirna array , and 10 differentially expressed mirnas were identified in bc and adjacent noncancerous tissues of any disease stage grade . after validated on expanded cohort of 67 paired bc tissues and 10 human bc cell lines by qrt pcr , it was found that mir 100 was down regulated most significantly in cancer tissues . ectopic restoration of mir 100 expression in bc cells suppressed cell proliferation and motility , induced cell cycle arrest in vitro , and inhibited tumorigenesis in vivo both in subcutaneous and intravesical passage . bioinformatic analysis showed that mtor gene was a direct target of mir 100, sirna mediated mtor knockdown phenocopied the effect of mir 100 in bc cell lines . in addition , the cancerous metastatic nude mouse model established on the basis of primary bc cell lines suggested that mir 100 mtor regulated cell motility and was associated with tumor metastasis . both mtor and p70s6k ( downstream messenger ) presented higher expression levels in distant metastatic foci such as in liver and kidney metastases than in primary tumor . taken together , mir 100 may act as a tumor suppressor in bc , and reintroduction of this mature mirna into tumor tissue may prove to be a therapeutic strategy by reducing the expression of target genes .\n"
     ]
    }
   ],
   "source": [
    "pid = 15 \n",
    "lid = 3  \n",
    "print(test_labels[pid])\n",
    "print(test_texts[pid])"
   ]
  },
  {
   "attachments": {},
   "cell_type": "markdown",
   "id": "80c0ee53",
   "metadata": {},
   "source": [
    "We retrieve cake's explanation"
   ]
  },
  {
   "cell_type": "code",
   "execution_count": 24,
   "id": "b75ca303",
   "metadata": {},
   "outputs": [
    {
     "data": {
      "text/plain": [
       "[['paired bladder cancer', 0.5448872],\n",
       " ['cancerous metastatic nude', 0.8914017],\n",
       " ['metastatic nude mouse', 0.74588424],\n",
       " ['distant metastatic foci', 0.86254436],\n",
       " ['tumor metastasis', 0.9092887]]"
      ]
     },
     "execution_count": 24,
     "metadata": {},
     "output_type": "execute_result"
    }
   ],
   "source": [
    "results = cake.keyphrase_interpretation2(test_texts[pid], 5, 1, 1, 1, False, pid)\n",
    "[[i,j] for i,j in zip(results[1],results[2][lid]) if j>0]"
   ]
  }
 ],
 "metadata": {
  "kernelspec": {
   "display_name": "Python 3",
   "language": "python",
   "name": "python3"
  },
  "language_info": {
   "codemirror_mode": {
    "name": "ipython",
    "version": 3
   },
   "file_extension": ".py",
   "mimetype": "text/x-python",
   "name": "python",
   "nbconvert_exporter": "python",
   "pygments_lexer": "ipython3",
   "version": "3.7.9"
  }
 },
 "nbformat": 4,
 "nbformat_minor": 5
}
